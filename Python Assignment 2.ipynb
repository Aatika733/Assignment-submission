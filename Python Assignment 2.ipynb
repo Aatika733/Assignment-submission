{
 "cells": [
  {
   "cell_type": "code",
   "execution_count": 2,
   "metadata": {},
   "outputs": [
    {
     "name": "stdout",
     "output_type": "stream",
     "text": [
      "The original list is : [15, 18, [], 8, [], [], 41, [], 67]\n",
      "List after empty list removal : [15, 18, 8, 41, 67]\n"
     ]
    }
   ],
   "source": [
    "#Question 1 : Write a Python program to remove empty List from List.\n",
    "  \n",
    "# Initializing list  \n",
    "test_list = [15, 18, [], 8, [], [], 41, [], 67] \n",
    "  \n",
    "# printing original list  \n",
    "print(\"The original list is : \" + str(test_list)) \n",
    "  \n",
    "# Remove empty List from List \n",
    "# using list comprehension \n",
    "res = [ele for ele in test_list if ele != []] \n",
    "  \n",
    "# printing result  \n",
    "print (\"List after empty list removal : \" + str(res)) "
   ]
  },
  {
   "cell_type": "code",
   "execution_count": 23,
   "metadata": {},
   "outputs": [
    {
     "name": "stdout",
     "output_type": "stream",
     "text": [
      "This is Python language not any other\n"
     ]
    }
   ],
   "source": [
    "#Question 2: Write a Python program to remove all duplicates words from a given sentence\n",
    " \n",
    "s = \"This is Python language This is not any other language\"\n",
    "l = s.split() \n",
    "k = [] \n",
    "for i in l: \n",
    "  \n",
    "    # If condition is used to store unique string  \n",
    "    # in another list 'k'  \n",
    "    if (s.count(i)>1 and (i not in k)or s.count(i)==1): \n",
    "        k.append(i) \n",
    "print(' '.join(k)) "
   ]
  },
  {
   "cell_type": "code",
   "execution_count": 27,
   "metadata": {},
   "outputs": [
    {
     "name": "stdout",
     "output_type": "stream",
     "text": [
      "Occurrence of all characters in  is wikipedia website:\n",
      " {'w': 2, 'i': 4, 'k': 1, 'p': 1, 'e': 3, 'd': 1, 'a': 1, ' ': 1, 'b': 1, 's': 1, 't': 1}\n"
     ]
    }
   ],
   "source": [
    "#Question 3: Write a Python program to find all occurrences of a character in the given string\n",
    "\n",
    "inp_str = \"wikipedia website\"  \n",
    "freq = {}  \n",
    "    \n",
    "for ele in inp_str:  \n",
    "    if ele in freq:  \n",
    "        freq[ele] += 1\n",
    "    else:  \n",
    "        freq[ele] = 1\n",
    "    \n",
    "# printing result   \n",
    "print (\"Occurrence of all characters in  is wikipedia website:\\n \"+ str(freq))  "
   ]
  }
 ],
 "metadata": {
  "kernelspec": {
   "display_name": "Python 3",
   "language": "python",
   "name": "python3"
  },
  "language_info": {
   "codemirror_mode": {
    "name": "ipython",
    "version": 3
   },
   "file_extension": ".py",
   "mimetype": "text/x-python",
   "name": "python",
   "nbconvert_exporter": "python",
   "pygments_lexer": "ipython3",
   "version": "3.8.5"
  }
 },
 "nbformat": 4,
 "nbformat_minor": 4
}
